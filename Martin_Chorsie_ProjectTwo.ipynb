{
 "cells": [
  {
   "cell_type": "markdown",
   "metadata": {},
   "source": [
    "# Treasure Hunt Game Notebook\n",
    "\n",
    "## Read and Review Your Starter Code\n",
    "The theme of this project is a popular treasure hunt game in which the player needs to find the treasure before the pirate does. While you will not be developing the entire game, you will write the part of the game that represents the intelligent agent, which is a pirate in this case. The pirate will try to find the optimal path to the treasure using deep Q-learning. \n",
    "\n",
    "You have been provided with two Python classes and this notebook to help you with this assignment. The first class, TreasureMaze.py, represents the environment, which includes a maze object defined as a matrix. The second class, GameExperience.py, stores the episodes – that is, all the states that come in between the initial state and the terminal state. This is later used by the agent for learning by experience, called \"exploration\". This notebook shows how to play a game. Your task is to complete the deep Q-learning implementation for which a skeleton implementation has been provided. The code blocks you will need to complete has #TODO as a header.\n",
    "\n",
    "First, read and review the next few code and instruction blocks to understand the code that you have been given."
   ]
  },
  {
   "cell_type": "code",
   "execution_count": 33,
   "metadata": {},
   "outputs": [],
   "source": [
    "from __future__ import print_function\n",
    "import os, sys, time, datetime, json, random\n",
    "import numpy as np\n",
    "from keras.models import Sequential\n",
    "from keras.layers.core import Dense, Activation\n",
    "from keras.optimizers import SGD , Adam, RMSprop\n",
    "from keras.layers.advanced_activations import PReLU\n",
    "import matplotlib.pyplot as plt\n",
    "from TreasureMaze import TreasureMaze\n",
    "from GameExperience import GameExperience\n",
    "%matplotlib inline"
   ]
  },
  {
   "cell_type": "markdown",
   "metadata": {},
   "source": [
    "The following code block contains an 8x8 matrix that will be used as a maze object:"
   ]
  },
  {
   "cell_type": "code",
   "execution_count": 34,
   "metadata": {},
   "outputs": [],
   "source": [
    "maze = np.array([\n",
    "    [ 1.,  0.,  1.,  1.,  1.,  1.,  1.,  1.],\n",
    "    [ 1.,  0.,  1.,  1.,  1.,  0.,  1.,  1.],\n",
    "    [ 1.,  1.,  1.,  1.,  0.,  1.,  0.,  1.],\n",
    "    [ 1.,  1.,  1.,  0.,  1.,  1.,  1.,  1.],\n",
    "    [ 1.,  1.,  0.,  1.,  1.,  1.,  1.,  1.],\n",
    "    [ 1.,  1.,  1.,  0.,  1.,  0.,  0.,  0.],\n",
    "    [ 1.,  1.,  1.,  0.,  1.,  1.,  1.,  1.],\n",
    "    [ 1.,  1.,  1.,  1.,  0.,  1.,  1.,  1.]\n",
    "])"
   ]
  },
  {
   "cell_type": "markdown",
   "metadata": {},
   "source": [
    "This helper function allows a visual representation of the maze object:"
   ]
  },
  {
   "cell_type": "code",
   "execution_count": 35,
   "metadata": {},
   "outputs": [],
   "source": [
    "def show(qmaze):\n",
    "    plt.grid('on')\n",
    "    nrows, ncols = qmaze.maze.shape\n",
    "    ax = plt.gca()\n",
    "    ax.set_xticks(np.arange(0.5, nrows, 1))\n",
    "    ax.set_yticks(np.arange(0.5, ncols, 1))\n",
    "    ax.set_xticklabels([])\n",
    "    ax.set_yticklabels([])\n",
    "    canvas = np.copy(qmaze.maze)\n",
    "    for row,col in qmaze.visited:\n",
    "        canvas[row,col] = 0.6\n",
    "    pirate_row, pirate_col, _ = qmaze.state\n",
    "    canvas[pirate_row, pirate_col] = 0.3   # pirate cell\n",
    "    canvas[nrows-1, ncols-1] = 0.9 # treasure cell\n",
    "    img = plt.imshow(canvas, interpolation='none', cmap='gray')\n",
    "    return img"
   ]
  },
  {
   "cell_type": "markdown",
   "metadata": {},
   "source": [
    "The pirate agent can move in four directions: left, right, up, and down. \n",
    "\n",
    "While the agent primarily learns by experience through exploitation, often, the agent can choose to explore the environment to find previously undiscovered paths. This is called \"exploration\" and is defined by epsilon. This value is typically a lower value such as 0.1, which means for every ten attempts, the agent will attempt to learn by experience nine times and will randomly explore a new path one time. You are encouraged to try various values for the exploration factor and see how the algorithm performs."
   ]
  },
  {
   "cell_type": "code",
   "execution_count": 36,
   "metadata": {},
   "outputs": [],
   "source": [
    "LEFT = 0\n",
    "UP = 1\n",
    "RIGHT = 2\n",
    "DOWN = 3\n",
    "\n",
    "\n",
    "# Exploration factor\n",
    "epsilon = 0.1\n",
    "\n",
    "# Actions dictionary\n",
    "actions_dict = {\n",
    "    LEFT: 'left',\n",
    "    UP: 'up',\n",
    "    RIGHT: 'right',\n",
    "    DOWN: 'down',\n",
    "}\n",
    "\n",
    "num_actions = len(actions_dict)\n"
   ]
  },
  {
   "cell_type": "markdown",
   "metadata": {},
   "source": [
    "The sample code block and output below show creating a maze object and performing one action (DOWN), which returns the reward. The resulting updated environment is visualized."
   ]
  },
  {
   "cell_type": "code",
   "execution_count": 37,
   "metadata": {},
   "outputs": [
    {
     "name": "stdout",
     "output_type": "stream",
     "text": [
      "reward= -0.05\n"
     ]
    },
    {
     "data": {
      "text/plain": [
       "<matplotlib.image.AxesImage at 0x22a2c9ee988>"
      ]
     },
     "execution_count": 37,
     "metadata": {},
     "output_type": "execute_result"
    },
    {
     "data": {
      "image/png": "[encoded data removed]",
      "text/plain": [
       "<Figure size 432x288 with 1 Axes>"
      ]
     },
     "metadata": {
      "needs_background": "light"
     },
     "output_type": "display_data"
    }
   ],
   "source": [
    "qmaze = TreasureMaze(maze)\n",
    "canvas, reward, game_over = qmaze.act(DOWN)\n",
    "print(\"reward=\", reward)\n",
    "show(qmaze)"
   ]
  },
  {
   "cell_type": "markdown",
   "metadata": {},
   "source": [
    "This function simulates a full game based on the provided trained model. The other parameters include the TreasureMaze object and the starting position of the pirate."
   ]
  },
  {
   "cell_type": "code",
   "execution_count": 38,
   "metadata": {},
   "outputs": [],
   "source": [
    "def play_game(model, qmaze, pirate_cell):\n",
    "    qmaze.reset(pirate_cell)\n",
    "    envstate = qmaze.observe()\n",
    "    while True:\n",
    "        prev_envstate = envstate\n",
    "        # get next action\n",
    "        q = model.predict(prev_envstate)\n",
    "        action = np.argmax(q[0])\n",
    "\n",
    "        # apply action, get rewards and new state\n",
    "        envstate, reward, game_status = qmaze.act(action)\n",
    "        if game_status == 'win':\n",
    "            return True\n",
    "        elif game_status == 'lose':\n",
    "            return False"
   ]
  },
  {
   "cell_type": "markdown",
   "metadata": {},
   "source": [
    "This function helps you to determine whether the pirate can win any game at all. If your maze is not well designed, the pirate may not win any game at all. In this case, your training would not yield any result. The provided maze in this notebook ensures that there is a path to win and you can run this method to check."
   ]
  },
  {
   "cell_type": "code",
   "execution_count": 39,
   "metadata": {},
   "outputs": [],
   "source": [
    "def completion_check(model, qmaze):\n",
    "    for cell in qmaze.free_cells:\n",
    "        if not qmaze.valid_actions(cell):\n",
    "            return False\n",
    "        if not play_game(model, qmaze, cell):\n",
    "            return False\n",
    "    return True"
   ]
  },
  {
   "cell_type": "markdown",
   "metadata": {},
   "source": [
    "The code you have been given in this block will build the neural network model. Review the code and note the number of layers, as well as the activation, optimizer, and loss functions that are used to train the model."
   ]
  },
  {
   "cell_type": "code",
   "execution_count": 40,
   "metadata": {},
   "outputs": [],
   "source": [
    "def build_model(maze):\n",
    "    model = Sequential()\n",
    "    model.add(Dense(maze.size, input_shape=(maze.size,)))\n",
    "    model.add(PReLU())\n",
    "    model.add(Dense(maze.size))\n",
    "    model.add(PReLU())\n",
    "    model.add(Dense(num_actions))\n",
    "    model.compile(optimizer='adam', loss='mse')\n",
    "    return model"
   ]
  },
  {
   "cell_type": "markdown",
   "metadata": {},
   "source": [
    "# #TODO: Complete the Q-Training Algorithm Code Block\n",
    "\n",
    "This is your deep Q-learning implementation. The goal of your deep Q-learning implementation is to find the best possible navigation sequence that results in reaching the treasure cell while maximizing the reward. In your implementation, you need to determine the optimal number of epochs to achieve a 100% win rate.\n",
    "\n",
    "You will need to complete the section starting with #pseudocode. The pseudocode has been included for you."
   ]
  },
  {
   "cell_type": "code",
   "execution_count": 43,
   "metadata": {},
   "outputs": [],
   "source": [
    "def qtrain(model, maze, **opt):\n",
    "\n",
    "    # exploration factor\n",
    "    global epsilon \n",
    "\n",
    "    # number of epochs\n",
    "    n_epoch = opt.get('n_epoch', 15000)\n",
    "\n",
    "    # maximum memory to store episodes\n",
    "    max_memory = opt.get('max_memory', 1000)\n",
    "\n",
    "    # maximum data size for training\n",
    "    data_size = opt.get('data_size', 50)\n",
    "\n",
    "    # start time\n",
    "    start_time = datetime.datetime.now()\n",
    "\n",
    "    # Construct environment/game from numpy array: maze (see above)\n",
    "    qmaze = TreasureMaze(maze)\n",
    "\n",
    "    # Initialize experience replay object\n",
    "    experience = GameExperience(model, max_memory=max_memory)\n",
    "    \n",
    "    win_history = []   # history of win/lose game\n",
    "    hsize = qmaze.maze.size//2   # history window size\n",
    "    win_rate = 0.0\n",
    "    \n",
    "    # Adjusted epsilon decay for faster convergence\n",
    "    epsilon_decay = opt.get('epsilon_decay', 0.999)  # decay each epoch until ~0.05\n",
    "    min_epsilon = 0.05\n",
    "\n",
    "    for epoch in range(n_epoch):\n",
    "        # Agent_cell = randomly select a free cell\n",
    "        agent_cell = random.choice(qmaze.free_cells)\n",
    "\n",
    "        # Reset the maze with agent set to above position\n",
    "        qmaze.reset(agent_cell)\n",
    "\n",
    "        # envstate = Environment.current_state\n",
    "        envstate = qmaze.observe()\n",
    "\n",
    "        # While state is not game over:\n",
    "        n_episodes = 0\n",
    "        loss = 0.0\n",
    "        while True:\n",
    "            n_episodes += 1\n",
    "            previous_envstate = envstate\n",
    "\n",
    "            # Action = randomly choose action (left, right, up, down) either by exploration or by exploitation\n",
    "            if np.random.rand() < epsilon:\n",
    "                action = random.choice(qmaze.valid_actions())\n",
    "            else:\n",
    "                q_values = model.predict(previous_envstate, verbose=0)\n",
    "                action = np.argmax(q_values[0])\n",
    "\n",
    "            # envstate, reward, game_status = qmaze.act(action)\n",
    "            envstate, reward, game_status = qmaze.act(action)\n",
    "\n",
    "            # episode = [previous_envstate, action, reward, envstate, game_status]\n",
    "            episode = [previous_envstate, action, reward, envstate, game_status]\n",
    "\n",
    "            # Store episode in Experience replay object\n",
    "            experience.remember(episode)\n",
    "\n",
    "            # Train neural network model and evaluate loss\n",
    "            inputs, targets = experience.get_data(data_size=data_size)\n",
    "            history = model.fit(inputs, targets, epochs=1, verbose=0)\n",
    "            loss = history.history['loss'][0]\n",
    "\n",
    "            if game_status in ('win', 'lose'):\n",
    "                win_history.append(1 if game_status == 'win' else 0)\n",
    "                break\n",
    "\n",
    "        # Reduce epsilon over time for faster learning\n",
    "        if epsilon > min_epsilon:\n",
    "            epsilon *= epsilon_decay\n",
    "            epsilon = max(epsilon, min_epsilon)\n",
    "\n",
    "        # Calculate win rate over recent history\n",
    "        if len(win_history) > hsize:\n",
    "            win_rate = sum(win_history[-hsize:]) / hsize\n",
    "\n",
    "        #Print the epoch, loss, episodes, win count, and win rate for each epoch\n",
    "        dt = datetime.datetime.now() - start_time\n",
    "        t = dt.total_seconds()\n",
    "        template = \"Epoch: {:03d}/{:d} | Loss: {:.4f} | Episodes: {:d} | Win count: {:d} | Win rate: {:.3f} | time: {:.2f} seconds\"\n",
    "        print(template.format(epoch, n_epoch-1, loss, n_episodes, sum(win_history), win_rate, t))\n",
    "\n",
    "\n",
    "        # We simply check if training has exhausted all free cells and if in all\n",
    "        # cases the agent won.\n",
    "        if win_rate > 0.9:\n",
    "            epsilon = 0.05\n",
    "        if sum(win_history[-hsize:]) == hsize and completion_check(model, qmaze):\n",
    "            print(\"Reached 100%% win rate at epoch: %d\" % (epoch,))\n",
    "            break\n",
    "    \n",
    "    # Determine the total time for training\n",
    "    dt = datetime.datetime.now() - start_time\n",
    "    seconds = dt.total_seconds()\n",
    "    t = format_time(seconds)\n",
    "\n",
    "    print(\"n_epoch: %d, max_mem: %d, data: %d, time: %s\" % (epoch, max_memory, data_size, t))\n",
    "    return seconds\n"
   ]
  },
  {
   "cell_type": "markdown",
   "metadata": {},
   "source": [
    "## Test Your Model\n",
    "\n",
    "Now we will start testing the deep Q-learning implementation. To begin, select **Cell**, then **Run All** from the menu bar. This will run your notebook. As it runs, you should see output begin to appear beneath the next few cells. The code below creates an instance of TreasureMaze."
   ]
  },
  {
   "cell_type": "code",
   "execution_count": 44,
   "metadata": {},
   "outputs": [
    {
     "data": {
      "text/plain": [
       "<matplotlib.image.AxesImage at 0x22a2ca84148>"
      ]
     },
     "execution_count": 44,
     "metadata": {},
     "output_type": "execute_result"
    },
    {
     "data": {
      "image/png": "[encoded data removed]",
      "text/plain": [
       "<Figure size 432x288 with 1 Axes>"
      ]
     },
     "metadata": {
      "needs_background": "light"
     },
     "output_type": "display_data"
    }
   ],
   "source": [
    "qmaze = TreasureMaze(maze)\n",
    "show(qmaze)"
   ]
  },
  {
   "cell_type": "markdown",
   "metadata": {},
   "source": [
    "In the next code block, you will build your model and train it using deep Q-learning. Note: This step takes several minutes to fully run."
   ]
  },
  {
   "cell_type": "code",
   "execution_count": 45,
   "metadata": {},
   "outputs": [
    {
     "name": "stdout",
     "output_type": "stream",
     "text": [
      "Epoch: 000/14999 | Loss: 0.0053 | Episodes: 73 | Win count: 0 | Win rate: 0.000 | time: 4.80 seconds\n",
      "Epoch: 001/14999 | Loss: 0.0057 | Episodes: 74 | Win count: 0 | Win rate: 0.000 | time: 10.04 seconds\n",
      "Epoch: 002/14999 | Loss: 0.0047 | Episodes: 70 | Win count: 0 | Win rate: 0.000 | time: 15.49 seconds\n",
      "Epoch: 003/14999 | Loss: 0.0043 | Episodes: 66 | Win count: 0 | Win rate: 0.000 | time: 20.19 seconds\n",
      "Epoch: 004/14999 | Loss: 0.0051 | Episodes: 72 | Win count: 0 | Win rate: 0.000 | time: 25.51 seconds\n",
      "Epoch: 005/14999 | Loss: 0.0045 | Episodes: 67 | Win count: 0 | Win rate: 0.000 | time: 30.69 seconds\n",
      "Epoch: 006/14999 | Loss: 0.0054 | Episodes: 78 | Win count: 0 | Win rate: 0.000 | time: 36.41 seconds\n",
      "Epoch: 007/14999 | Loss: 0.0033 | Episodes: 66 | Win count: 0 | Win rate: 0.000 | time: 41.64 seconds\n",
      "Epoch: 008/14999 | Loss: 0.0047 | Episodes: 78 | Win count: 0 | Win rate: 0.000 | time: 47.62 seconds\n",
      "Epoch: 009/14999 | Loss: 0.0036 | Episodes: 73 | Win count: 0 | Win rate: 0.000 | time: 53.19 seconds\n",
      "Epoch: 010/14999 | Loss: 0.0047 | Episodes: 70 | Win count: 0 | Win rate: 0.000 | time: 58.29 seconds\n",
      "Epoch: 011/14999 | Loss: 0.0061 | Episodes: 72 | Win count: 0 | Win rate: 0.000 | time: 63.90 seconds\n",
      "Epoch: 012/14999 | Loss: 0.0039 | Episodes: 69 | Win count: 0 | Win rate: 0.000 | time: 68.56 seconds\n",
      "Epoch: 013/14999 | Loss: 0.0069 | Episodes: 71 | Win count: 0 | Win rate: 0.000 | time: 73.80 seconds\n",
      "Epoch: 014/14999 | Loss: 0.0024 | Episodes: 69 | Win count: 0 | Win rate: 0.000 | time: 79.03 seconds\n",
      "Epoch: 015/14999 | Loss: 0.0009 | Episodes: 70 | Win count: 0 | Win rate: 0.000 | time: 84.18 seconds\n",
      "Epoch: 016/14999 | Loss: 0.0048 | Episodes: 74 | Win count: 0 | Win rate: 0.000 | time: 89.57 seconds\n",
      "Epoch: 017/14999 | Loss: 0.0063 | Episodes: 76 | Win count: 0 | Win rate: 0.000 | time: 95.59 seconds\n",
      "Epoch: 018/14999 | Loss: 0.0054 | Episodes: 77 | Win count: 0 | Win rate: 0.000 | time: 101.79 seconds\n",
      "Epoch: 019/14999 | Loss: 0.0040 | Episodes: 79 | Win count: 0 | Win rate: 0.000 | time: 107.52 seconds\n",
      "Epoch: 020/14999 | Loss: 0.0037 | Episodes: 72 | Win count: 0 | Win rate: 0.000 | time: 112.78 seconds\n",
      "Epoch: 021/14999 | Loss: 0.0073 | Episodes: 77 | Win count: 0 | Win rate: 0.000 | time: 118.31 seconds\n",
      "Epoch: 022/14999 | Loss: 0.0050 | Episodes: 69 | Win count: 0 | Win rate: 0.000 | time: 123.37 seconds\n",
      "Epoch: 023/14999 | Loss: 0.0048 | Episodes: 73 | Win count: 0 | Win rate: 0.000 | time: 128.76 seconds\n",
      "Epoch: 024/14999 | Loss: 0.0042 | Episodes: 72 | Win count: 0 | Win rate: 0.000 | time: 134.03 seconds\n",
      "Epoch: 025/14999 | Loss: 0.0052 | Episodes: 70 | Win count: 0 | Win rate: 0.000 | time: 139.45 seconds\n",
      "Epoch: 026/14999 | Loss: 0.0015 | Episodes: 74 | Win count: 0 | Win rate: 0.000 | time: 144.85 seconds\n",
      "Epoch: 027/14999 | Loss: 0.0028 | Episodes: 72 | Win count: 0 | Win rate: 0.000 | time: 150.06 seconds\n",
      "Epoch: 028/14999 | Loss: 0.0055 | Episodes: 69 | Win count: 0 | Win rate: 0.000 | time: 155.21 seconds\n",
      "Epoch: 029/14999 | Loss: 0.0051 | Episodes: 74 | Win count: 0 | Win rate: 0.000 | time: 161.60 seconds\n",
      "Epoch: 030/14999 | Loss: 0.0043 | Episodes: 73 | Win count: 0 | Win rate: 0.000 | time: 167.37 seconds\n",
      "Epoch: 031/14999 | Loss: 0.0060 | Episodes: 71 | Win count: 0 | Win rate: 0.000 | time: 172.65 seconds\n",
      "Epoch: 032/14999 | Loss: 0.0056 | Episodes: 75 | Win count: 0 | Win rate: 0.000 | time: 178.33 seconds\n",
      "Epoch: 033/14999 | Loss: 0.0039 | Episodes: 76 | Win count: 0 | Win rate: 0.000 | time: 183.90 seconds\n",
      "Epoch: 034/14999 | Loss: 0.0057 | Episodes: 77 | Win count: 0 | Win rate: 0.000 | time: 189.41 seconds\n",
      "Epoch: 035/14999 | Loss: 0.0049 | Episodes: 71 | Win count: 0 | Win rate: 0.000 | time: 194.86 seconds\n",
      "Epoch: 036/14999 | Loss: 0.0051 | Episodes: 72 | Win count: 0 | Win rate: 0.000 | time: 200.31 seconds\n",
      "Epoch: 037/14999 | Loss: 0.0059 | Episodes: 70 | Win count: 0 | Win rate: 0.000 | time: 205.49 seconds\n",
      "Epoch: 038/14999 | Loss: 0.0040 | Episodes: 74 | Win count: 0 | Win rate: 0.000 | time: 211.23 seconds\n",
      "Epoch: 039/14999 | Loss: 0.0057 | Episodes: 72 | Win count: 0 | Win rate: 0.000 | time: 216.33 seconds\n",
      "Epoch: 040/14999 | Loss: 0.0037 | Episodes: 80 | Win count: 0 | Win rate: 0.000 | time: 222.44 seconds\n",
      "Epoch: 041/14999 | Loss: 0.0065 | Episodes: 71 | Win count: 0 | Win rate: 0.000 | time: 228.17 seconds\n",
      "Epoch: 042/14999 | Loss: 0.0041 | Episodes: 70 | Win count: 0 | Win rate: 0.000 | time: 233.31 seconds\n",
      "Epoch: 043/14999 | Loss: 0.0054 | Episodes: 86 | Win count: 0 | Win rate: 0.000 | time: 239.61 seconds\n",
      "Epoch: 044/14999 | Loss: 0.0054 | Episodes: 71 | Win count: 0 | Win rate: 0.000 | time: 244.92 seconds\n",
      "Epoch: 045/14999 | Loss: 0.0032 | Episodes: 76 | Win count: 0 | Win rate: 0.000 | time: 250.58 seconds\n",
      "Epoch: 046/14999 | Loss: 0.0053 | Episodes: 77 | Win count: 0 | Win rate: 0.000 | time: 256.93 seconds\n",
      "Epoch: 047/14999 | Loss: 0.0066 | Episodes: 80 | Win count: 0 | Win rate: 0.000 | time: 263.47 seconds\n",
      "Epoch: 048/14999 | Loss: 0.0063 | Episodes: 80 | Win count: 0 | Win rate: 0.000 | time: 269.25 seconds\n",
      "Epoch: 049/14999 | Loss: 0.8504 | Episodes: 52 | Win count: 1 | Win rate: 0.031 | time: 273.17 seconds\n",
      "Epoch: 050/14999 | Loss: 0.0105 | Episodes: 78 | Win count: 1 | Win rate: 0.031 | time: 279.26 seconds\n",
      "Epoch: 051/14999 | Loss: 0.0081 | Episodes: 73 | Win count: 1 | Win rate: 0.031 | time: 285.24 seconds\n",
      "Epoch: 052/14999 | Loss: 0.0046 | Episodes: 74 | Win count: 1 | Win rate: 0.031 | time: 291.45 seconds\n",
      "Epoch: 053/14999 | Loss: 0.0057 | Episodes: 7 | Win count: 2 | Win rate: 0.062 | time: 292.14 seconds\n",
      "Epoch: 054/14999 | Loss: 0.0078 | Episodes: 37 | Win count: 3 | Win rate: 0.094 | time: 295.16 seconds\n",
      "Epoch: 055/14999 | Loss: 0.0102 | Episodes: 76 | Win count: 3 | Win rate: 0.094 | time: 300.98 seconds\n",
      "Epoch: 056/14999 | Loss: 0.0115 | Episodes: 75 | Win count: 3 | Win rate: 0.094 | time: 306.49 seconds\n",
      "Epoch: 057/14999 | Loss: 0.0130 | Episodes: 67 | Win count: 3 | Win rate: 0.094 | time: 311.72 seconds\n",
      "Epoch: 058/14999 | Loss: 0.0030 | Episodes: 78 | Win count: 3 | Win rate: 0.094 | time: 318.25 seconds\n",
      "Epoch: 059/14999 | Loss: 0.8464 | Episodes: 80 | Win count: 3 | Win rate: 0.094 | time: 324.37 seconds\n",
      "Epoch: 060/14999 | Loss: 0.8430 | Episodes: 70 | Win count: 3 | Win rate: 0.094 | time: 329.76 seconds\n",
      "Epoch: 061/14999 | Loss: 0.0071 | Episodes: 82 | Win count: 3 | Win rate: 0.094 | time: 335.88 seconds\n",
      "Epoch: 062/14999 | Loss: 0.0063 | Episodes: 67 | Win count: 3 | Win rate: 0.094 | time: 340.87 seconds\n",
      "Epoch: 063/14999 | Loss: 0.0065 | Episodes: 71 | Win count: 3 | Win rate: 0.094 | time: 346.17 seconds\n",
      "Epoch: 064/14999 | Loss: 0.0023 | Episodes: 73 | Win count: 3 | Win rate: 0.094 | time: 351.48 seconds\n",
      "Epoch: 065/14999 | Loss: 0.0056 | Episodes: 65 | Win count: 3 | Win rate: 0.094 | time: 356.78 seconds\n",
      "Epoch: 066/14999 | Loss: 0.0060 | Episodes: 12 | Win count: 4 | Win rate: 0.125 | time: 357.79 seconds\n",
      "Epoch: 067/14999 | Loss: 0.8277 | Episodes: 78 | Win count: 4 | Win rate: 0.125 | time: 363.36 seconds\n",
      "Epoch: 068/14999 | Loss: 0.0007 | Episodes: 68 | Win count: 4 | Win rate: 0.125 | time: 367.81 seconds\n",
      "Epoch: 069/14999 | Loss: 0.0050 | Episodes: 69 | Win count: 4 | Win rate: 0.125 | time: 372.92 seconds\n",
      "Epoch: 070/14999 | Loss: 0.0065 | Episodes: 65 | Win count: 4 | Win rate: 0.125 | time: 377.64 seconds\n",
      "Epoch: 071/14999 | Loss: 0.0047 | Episodes: 67 | Win count: 4 | Win rate: 0.125 | time: 382.37 seconds\n",
      "Epoch: 072/14999 | Loss: 0.8173 | Episodes: 73 | Win count: 4 | Win rate: 0.125 | time: 387.66 seconds\n",
      "Epoch: 073/14999 | Loss: 0.0041 | Episodes: 69 | Win count: 4 | Win rate: 0.125 | time: 392.45 seconds\n",
      "Epoch: 074/14999 | Loss: 0.0027 | Episodes: 83 | Win count: 4 | Win rate: 0.125 | time: 398.49 seconds\n",
      "Epoch: 075/14999 | Loss: 0.0035 | Episodes: 78 | Win count: 4 | Win rate: 0.125 | time: 404.50 seconds\n",
      "Epoch: 076/14999 | Loss: 0.0038 | Episodes: 69 | Win count: 4 | Win rate: 0.125 | time: 409.74 seconds\n",
      "Epoch: 077/14999 | Loss: 0.0029 | Episodes: 49 | Win count: 5 | Win rate: 0.156 | time: 413.09 seconds\n",
      "Epoch: 078/14999 | Loss: 0.0066 | Episodes: 74 | Win count: 5 | Win rate: 0.156 | time: 418.47 seconds\n",
      "Epoch: 079/14999 | Loss: 0.0070 | Episodes: 71 | Win count: 5 | Win rate: 0.156 | time: 424.01 seconds\n"
     ]
    },
    {
     "name": "stdout",
     "output_type": "stream",
     "text": [
      "Epoch: 080/14999 | Loss: 0.0086 | Episodes: 71 | Win count: 6 | Win rate: 0.188 | time: 429.39 seconds\n",
      "Epoch: 081/14999 | Loss: 0.0143 | Episodes: 75 | Win count: 6 | Win rate: 0.156 | time: 434.63 seconds\n",
      "Epoch: 082/14999 | Loss: 0.7356 | Episodes: 69 | Win count: 6 | Win rate: 0.156 | time: 439.68 seconds\n",
      "Epoch: 083/14999 | Loss: 0.0030 | Episodes: 7 | Win count: 7 | Win rate: 0.188 | time: 440.23 seconds\n",
      "Epoch: 084/14999 | Loss: 0.0283 | Episodes: 82 | Win count: 7 | Win rate: 0.188 | time: 446.29 seconds\n",
      "Epoch: 085/14999 | Loss: 0.7388 | Episodes: 8 | Win count: 8 | Win rate: 0.188 | time: 446.91 seconds\n",
      "Epoch: 086/14999 | Loss: 0.0084 | Episodes: 78 | Win count: 8 | Win rate: 0.156 | time: 452.49 seconds\n",
      "Epoch: 087/14999 | Loss: 0.0127 | Episodes: 72 | Win count: 8 | Win rate: 0.156 | time: 457.62 seconds\n",
      "Epoch: 088/14999 | Loss: 0.4315 | Episodes: 73 | Win count: 8 | Win rate: 0.156 | time: 462.96 seconds\n",
      "Epoch: 089/14999 | Loss: 0.0104 | Episodes: 71 | Win count: 8 | Win rate: 0.156 | time: 468.29 seconds\n",
      "Epoch: 090/14999 | Loss: 0.0087 | Episodes: 75 | Win count: 8 | Win rate: 0.156 | time: 473.51 seconds\n",
      "Epoch: 091/14999 | Loss: 0.0058 | Episodes: 71 | Win count: 8 | Win rate: 0.156 | time: 478.85 seconds\n",
      "Epoch: 092/14999 | Loss: 0.0066 | Episodes: 74 | Win count: 8 | Win rate: 0.156 | time: 484.24 seconds\n",
      "Epoch: 093/14999 | Loss: 0.0032 | Episodes: 71 | Win count: 8 | Win rate: 0.156 | time: 490.23 seconds\n",
      "Epoch: 094/14999 | Loss: 0.0038 | Episodes: 1 | Win count: 9 | Win rate: 0.188 | time: 490.32 seconds\n",
      "Epoch: 095/14999 | Loss: 0.2155 | Episodes: 1 | Win count: 10 | Win rate: 0.219 | time: 490.45 seconds\n",
      "Epoch: 096/14999 | Loss: 0.0065 | Episodes: 70 | Win count: 10 | Win rate: 0.219 | time: 495.87 seconds\n",
      "Epoch: 097/14999 | Loss: 0.0783 | Episodes: 70 | Win count: 10 | Win rate: 0.219 | time: 501.29 seconds\n",
      "Epoch: 098/14999 | Loss: 0.8340 | Episodes: 83 | Win count: 10 | Win rate: 0.188 | time: 507.82 seconds\n",
      "Epoch: 099/14999 | Loss: 0.8322 | Episodes: 76 | Win count: 10 | Win rate: 0.188 | time: 513.48 seconds\n",
      "Epoch: 100/14999 | Loss: 0.0073 | Episodes: 68 | Win count: 10 | Win rate: 0.188 | time: 518.56 seconds\n",
      "Epoch: 101/14999 | Loss: 0.0225 | Episodes: 73 | Win count: 10 | Win rate: 0.188 | time: 524.72 seconds\n",
      "Epoch: 102/14999 | Loss: 0.0101 | Episodes: 72 | Win count: 10 | Win rate: 0.188 | time: 530.02 seconds\n",
      "Epoch: 103/14999 | Loss: 0.0067 | Episodes: 82 | Win count: 10 | Win rate: 0.188 | time: 535.99 seconds\n",
      "Epoch: 104/14999 | Loss: 0.0064 | Episodes: 71 | Win count: 10 | Win rate: 0.188 | time: 541.02 seconds\n",
      "Epoch: 105/14999 | Loss: 0.0046 | Episodes: 69 | Win count: 10 | Win rate: 0.188 | time: 546.06 seconds\n",
      "Epoch: 106/14999 | Loss: 0.0039 | Episodes: 70 | Win count: 10 | Win rate: 0.188 | time: 550.94 seconds\n",
      "Epoch: 107/14999 | Loss: 0.0060 | Episodes: 72 | Win count: 10 | Win rate: 0.188 | time: 556.87 seconds\n",
      "Epoch: 108/14999 | Loss: 0.0063 | Episodes: 77 | Win count: 10 | Win rate: 0.188 | time: 562.51 seconds\n",
      "Epoch: 109/14999 | Loss: 0.0058 | Episodes: 71 | Win count: 10 | Win rate: 0.156 | time: 567.80 seconds\n",
      "Epoch: 110/14999 | Loss: 0.0048 | Episodes: 82 | Win count: 10 | Win rate: 0.156 | time: 574.19 seconds\n",
      "Epoch: 111/14999 | Loss: 0.0036 | Episodes: 79 | Win count: 10 | Win rate: 0.156 | time: 579.85 seconds\n",
      "Epoch: 112/14999 | Loss: 0.0041 | Episodes: 8 | Win count: 11 | Win rate: 0.156 | time: 580.60 seconds\n",
      "Epoch: 113/14999 | Loss: 0.0087 | Episodes: 71 | Win count: 11 | Win rate: 0.156 | time: 585.57 seconds\n",
      "Epoch: 114/14999 | Loss: 0.0025 | Episodes: 70 | Win count: 11 | Win rate: 0.156 | time: 590.87 seconds\n",
      "Epoch: 115/14999 | Loss: 0.0041 | Episodes: 3 | Win count: 12 | Win rate: 0.156 | time: 591.11 seconds\n",
      "Epoch: 116/14999 | Loss: 0.0043 | Episodes: 8 | Win count: 13 | Win rate: 0.188 | time: 591.78 seconds\n",
      "Epoch: 117/14999 | Loss: 0.0056 | Episodes: 71 | Win count: 13 | Win rate: 0.156 | time: 597.57 seconds\n",
      "Epoch: 118/14999 | Loss: 0.0054 | Episodes: 13 | Win count: 14 | Win rate: 0.188 | time: 598.66 seconds\n",
      "Epoch: 119/14999 | Loss: 0.0084 | Episodes: 61 | Win count: 15 | Win rate: 0.219 | time: 603.36 seconds\n",
      "Epoch: 120/14999 | Loss: 0.0038 | Episodes: 74 | Win count: 15 | Win rate: 0.219 | time: 609.07 seconds\n",
      "Epoch: 121/14999 | Loss: 0.0051 | Episodes: 57 | Win count: 16 | Win rate: 0.250 | time: 613.57 seconds\n",
      "Epoch: 122/14999 | Loss: 0.0135 | Episodes: 81 | Win count: 16 | Win rate: 0.250 | time: 620.17 seconds\n",
      "Epoch: 123/14999 | Loss: 0.0060 | Episodes: 45 | Win count: 17 | Win rate: 0.281 | time: 623.54 seconds\n",
      "Epoch: 124/14999 | Loss: 0.0067 | Episodes: 67 | Win count: 17 | Win rate: 0.281 | time: 628.50 seconds\n",
      "Epoch: 125/14999 | Loss: 0.0063 | Episodes: 76 | Win count: 17 | Win rate: 0.281 | time: 633.92 seconds\n",
      "Epoch: 126/14999 | Loss: 0.0061 | Episodes: 77 | Win count: 17 | Win rate: 0.250 | time: 639.85 seconds\n",
      "Epoch: 127/14999 | Loss: 0.0072 | Episodes: 72 | Win count: 17 | Win rate: 0.219 | time: 645.60 seconds\n",
      "Epoch: 128/14999 | Loss: 0.0047 | Episodes: 43 | Win count: 18 | Win rate: 0.250 | time: 649.11 seconds\n",
      "Epoch: 129/14999 | Loss: 0.0064 | Episodes: 70 | Win count: 18 | Win rate: 0.250 | time: 654.75 seconds\n",
      "Epoch: 130/14999 | Loss: 0.0066 | Episodes: 38 | Win count: 19 | Win rate: 0.281 | time: 657.59 seconds\n",
      "Epoch: 131/14999 | Loss: 0.0035 | Episodes: 6 | Win count: 20 | Win rate: 0.312 | time: 658.07 seconds\n",
      "Epoch: 132/14999 | Loss: 0.0055 | Episodes: 80 | Win count: 20 | Win rate: 0.312 | time: 664.14 seconds\n",
      "Epoch: 133/14999 | Loss: 0.0081 | Episodes: 70 | Win count: 20 | Win rate: 0.312 | time: 669.39 seconds\n",
      "Epoch: 134/14999 | Loss: 0.0059 | Episodes: 79 | Win count: 20 | Win rate: 0.312 | time: 674.84 seconds\n",
      "Epoch: 135/14999 | Loss: 0.0070 | Episodes: 71 | Win count: 21 | Win rate: 0.344 | time: 680.08 seconds\n",
      "Epoch: 136/14999 | Loss: 0.0052 | Episodes: 30 | Win count: 22 | Win rate: 0.375 | time: 682.14 seconds\n",
      "Epoch: 137/14999 | Loss: 0.0070 | Episodes: 32 | Win count: 23 | Win rate: 0.406 | time: 684.82 seconds\n",
      "Epoch: 138/14999 | Loss: 0.0073 | Episodes: 1 | Win count: 24 | Win rate: 0.438 | time: 684.91 seconds\n",
      "Epoch: 139/14999 | Loss: 0.0066 | Episodes: 63 | Win count: 25 | Win rate: 0.469 | time: 689.71 seconds\n",
      "Epoch: 140/14999 | Loss: 0.0068 | Episodes: 2 | Win count: 26 | Win rate: 0.500 | time: 689.81 seconds\n",
      "Epoch: 141/14999 | Loss: 0.0062 | Episodes: 12 | Win count: 27 | Win rate: 0.531 | time: 690.78 seconds\n",
      "Epoch: 142/14999 | Loss: 0.0064 | Episodes: 61 | Win count: 28 | Win rate: 0.562 | time: 695.28 seconds\n",
      "Epoch: 143/14999 | Loss: 0.0057 | Episodes: 4 | Win count: 29 | Win rate: 0.594 | time: 695.57 seconds\n",
      "Epoch: 144/14999 | Loss: 0.0078 | Episodes: 20 | Win count: 30 | Win rate: 0.594 | time: 697.05 seconds\n",
      "Epoch: 145/14999 | Loss: 0.0061 | Episodes: 40 | Win count: 31 | Win rate: 0.625 | time: 700.59 seconds\n",
      "Epoch: 146/14999 | Loss: 0.0068 | Episodes: 1 | Win count: 32 | Win rate: 0.656 | time: 700.67 seconds\n",
      "Epoch: 147/14999 | Loss: 0.8001 | Episodes: 9 | Win count: 33 | Win rate: 0.656 | time: 701.43 seconds\n",
      "Epoch: 148/14999 | Loss: 0.0113 | Episodes: 71 | Win count: 33 | Win rate: 0.625 | time: 706.87 seconds\n",
      "Epoch: 149/14999 | Loss: 0.0180 | Episodes: 73 | Win count: 33 | Win rate: 0.625 | time: 712.38 seconds\n",
      "Epoch: 150/14999 | Loss: 0.0079 | Episodes: 6 | Win count: 34 | Win rate: 0.625 | time: 712.85 seconds\n",
      "Epoch: 151/14999 | Loss: 0.0052 | Episodes: 30 | Win count: 35 | Win rate: 0.625 | time: 715.21 seconds\n",
      "Epoch: 152/14999 | Loss: 0.0218 | Episodes: 47 | Win count: 36 | Win rate: 0.656 | time: 718.96 seconds\n",
      "Epoch: 153/14999 | Loss: 0.0133 | Episodes: 82 | Win count: 36 | Win rate: 0.625 | time: 725.33 seconds\n",
      "Epoch: 154/14999 | Loss: 0.0068 | Episodes: 70 | Win count: 36 | Win rate: 0.625 | time: 730.46 seconds\n",
      "Epoch: 155/14999 | Loss: 0.0173 | Episodes: 68 | Win count: 36 | Win rate: 0.594 | time: 735.35 seconds\n",
      "Epoch: 156/14999 | Loss: 0.0056 | Episodes: 68 | Win count: 36 | Win rate: 0.594 | time: 740.28 seconds\n",
      "Epoch: 157/14999 | Loss: 0.0040 | Episodes: 73 | Win count: 36 | Win rate: 0.594 | time: 745.58 seconds\n",
      "Epoch: 158/14999 | Loss: 0.0055 | Episodes: 52 | Win count: 37 | Win rate: 0.625 | time: 749.57 seconds\n",
      "Epoch: 159/14999 | Loss: 0.0078 | Episodes: 60 | Win count: 38 | Win rate: 0.656 | time: 754.72 seconds\n"
     ]
    },
    {
     "name": "stdout",
     "output_type": "stream",
     "text": [
      "Epoch: 160/14999 | Loss: 0.0063 | Episodes: 56 | Win count: 39 | Win rate: 0.656 | time: 759.05 seconds\n",
      "Epoch: 161/14999 | Loss: 0.0076 | Episodes: 10 | Win count: 40 | Win rate: 0.688 | time: 760.00 seconds\n",
      "Epoch: 162/14999 | Loss: 0.0036 | Episodes: 22 | Win count: 41 | Win rate: 0.688 | time: 761.92 seconds\n",
      "Epoch: 163/14999 | Loss: 0.0049 | Episodes: 36 | Win count: 42 | Win rate: 0.688 | time: 764.84 seconds\n",
      "Epoch: 164/14999 | Loss: 0.0054 | Episodes: 9 | Win count: 43 | Win rate: 0.719 | time: 765.61 seconds\n",
      "Epoch: 165/14999 | Loss: 0.0032 | Episodes: 72 | Win count: 43 | Win rate: 0.719 | time: 771.27 seconds\n",
      "Epoch: 166/14999 | Loss: 0.0056 | Episodes: 73 | Win count: 43 | Win rate: 0.719 | time: 777.00 seconds\n",
      "Epoch: 167/14999 | Loss: 0.0068 | Episodes: 8 | Win count: 44 | Win rate: 0.719 | time: 777.64 seconds\n",
      "Epoch: 168/14999 | Loss: 0.0064 | Episodes: 25 | Win count: 45 | Win rate: 0.719 | time: 779.55 seconds\n",
      "Epoch: 169/14999 | Loss: 0.0034 | Episodes: 7 | Win count: 46 | Win rate: 0.719 | time: 780.09 seconds\n",
      "Epoch: 170/14999 | Loss: 0.0054 | Episodes: 70 | Win count: 46 | Win rate: 0.688 | time: 785.33 seconds\n",
      "Epoch: 171/14999 | Loss: 0.0046 | Episodes: 78 | Win count: 47 | Win rate: 0.688 | time: 790.92 seconds\n",
      "Epoch: 172/14999 | Loss: 0.0061 | Episodes: 74 | Win count: 47 | Win rate: 0.656 | time: 796.61 seconds\n",
      "Epoch: 173/14999 | Loss: 0.0068 | Episodes: 42 | Win count: 48 | Win rate: 0.656 | time: 799.70 seconds\n",
      "Epoch: 174/14999 | Loss: 0.0082 | Episodes: 49 | Win count: 49 | Win rate: 0.656 | time: 803.25 seconds\n",
      "Epoch: 175/14999 | Loss: 0.0073 | Episodes: 43 | Win count: 50 | Win rate: 0.656 | time: 806.34 seconds\n",
      "Epoch: 176/14999 | Loss: 0.0073 | Episodes: 4 | Win count: 51 | Win rate: 0.656 | time: 806.67 seconds\n",
      "Epoch: 177/14999 | Loss: 0.0055 | Episodes: 12 | Win count: 52 | Win rate: 0.656 | time: 807.61 seconds\n",
      "Epoch: 178/14999 | Loss: 0.0068 | Episodes: 6 | Win count: 53 | Win rate: 0.656 | time: 808.11 seconds\n",
      "Epoch: 179/14999 | Loss: 0.0070 | Episodes: 33 | Win count: 54 | Win rate: 0.656 | time: 810.47 seconds\n",
      "Epoch: 180/14999 | Loss: 0.0066 | Episodes: 44 | Win count: 55 | Win rate: 0.688 | time: 813.59 seconds\n",
      "Epoch: 181/14999 | Loss: 0.0074 | Episodes: 11 | Win count: 56 | Win rate: 0.719 | time: 814.44 seconds\n",
      "Epoch: 182/14999 | Loss: 0.0087 | Episodes: 1 | Win count: 57 | Win rate: 0.719 | time: 814.52 seconds\n",
      "Epoch: 183/14999 | Loss: 0.0261 | Episodes: 11 | Win count: 58 | Win rate: 0.719 | time: 815.57 seconds\n",
      "Epoch: 184/14999 | Loss: 0.0138 | Episodes: 37 | Win count: 59 | Win rate: 0.719 | time: 818.33 seconds\n",
      "Epoch: 185/14999 | Loss: 0.0084 | Episodes: 66 | Win count: 60 | Win rate: 0.750 | time: 822.94 seconds\n",
      "Epoch: 186/14999 | Loss: 0.0142 | Episodes: 77 | Win count: 60 | Win rate: 0.750 | time: 828.42 seconds\n",
      "Epoch: 187/14999 | Loss: 0.0300 | Episodes: 80 | Win count: 60 | Win rate: 0.750 | time: 834.38 seconds\n",
      "Epoch: 188/14999 | Loss: 0.5948 | Episodes: 42 | Win count: 61 | Win rate: 0.781 | time: 837.41 seconds\n",
      "Epoch: 189/14999 | Loss: 0.0102 | Episodes: 44 | Win count: 62 | Win rate: 0.812 | time: 840.76 seconds\n",
      "Epoch: 190/14999 | Loss: 0.0074 | Episodes: 1 | Win count: 63 | Win rate: 0.812 | time: 840.84 seconds\n",
      "Epoch: 191/14999 | Loss: 0.0161 | Episodes: 17 | Win count: 64 | Win rate: 0.812 | time: 842.25 seconds\n",
      "Epoch: 192/14999 | Loss: 0.0094 | Episodes: 72 | Win count: 64 | Win rate: 0.781 | time: 847.50 seconds\n",
      "Epoch: 193/14999 | Loss: 0.0146 | Episodes: 2 | Win count: 65 | Win rate: 0.781 | time: 847.61 seconds\n",
      "Epoch: 194/14999 | Loss: 0.0297 | Episodes: 19 | Win count: 66 | Win rate: 0.781 | time: 849.01 seconds\n",
      "Epoch: 195/14999 | Loss: 0.0090 | Episodes: 60 | Win count: 67 | Win rate: 0.781 | time: 853.31 seconds\n",
      "Epoch: 196/14999 | Loss: 0.0060 | Episodes: 17 | Win count: 68 | Win rate: 0.781 | time: 854.57 seconds\n",
      "Epoch: 197/14999 | Loss: 0.0046 | Episodes: 74 | Win count: 69 | Win rate: 0.812 | time: 860.30 seconds\n",
      "Epoch: 198/14999 | Loss: 0.0084 | Episodes: 42 | Win count: 70 | Win rate: 0.844 | time: 863.49 seconds\n",
      "Epoch: 199/14999 | Loss: 0.0078 | Episodes: 2 | Win count: 71 | Win rate: 0.844 | time: 863.65 seconds\n",
      "Epoch: 200/14999 | Loss: 0.0088 | Episodes: 34 | Win count: 72 | Win rate: 0.844 | time: 866.11 seconds\n",
      "Epoch: 201/14999 | Loss: 0.0074 | Episodes: 72 | Win count: 72 | Win rate: 0.812 | time: 871.54 seconds\n",
      "Epoch: 202/14999 | Loss: 0.0051 | Episodes: 70 | Win count: 72 | Win rate: 0.812 | time: 876.67 seconds\n",
      "Epoch: 203/14999 | Loss: 0.0065 | Episodes: 43 | Win count: 73 | Win rate: 0.812 | time: 879.87 seconds\n",
      "Epoch: 204/14999 | Loss: 0.0051 | Episodes: 28 | Win count: 74 | Win rate: 0.844 | time: 882.31 seconds\n",
      "Epoch: 205/14999 | Loss: 0.0054 | Episodes: 28 | Win count: 75 | Win rate: 0.844 | time: 884.60 seconds\n",
      "Epoch: 206/14999 | Loss: 0.0146 | Episodes: 31 | Win count: 76 | Win rate: 0.844 | time: 886.83 seconds\n",
      "Epoch: 207/14999 | Loss: 0.0094 | Episodes: 28 | Win count: 77 | Win rate: 0.844 | time: 888.94 seconds\n",
      "Epoch: 208/14999 | Loss: 0.0055 | Episodes: 30 | Win count: 78 | Win rate: 0.844 | time: 891.01 seconds\n",
      "Epoch: 209/14999 | Loss: 0.0053 | Episodes: 17 | Win count: 79 | Win rate: 0.844 | time: 892.27 seconds\n",
      "Epoch: 210/14999 | Loss: 0.0075 | Episodes: 4 | Win count: 80 | Win rate: 0.844 | time: 892.57 seconds\n",
      "Epoch: 211/14999 | Loss: 0.0102 | Episodes: 72 | Win count: 80 | Win rate: 0.812 | time: 897.52 seconds\n",
      "Epoch: 212/14999 | Loss: 0.0050 | Episodes: 11 | Win count: 81 | Win rate: 0.812 | time: 898.40 seconds\n",
      "Epoch: 213/14999 | Loss: 0.0039 | Episodes: 71 | Win count: 81 | Win rate: 0.781 | time: 903.30 seconds\n",
      "Epoch: 214/14999 | Loss: 0.0042 | Episodes: 11 | Win count: 82 | Win rate: 0.781 | time: 904.17 seconds\n",
      "Epoch: 215/14999 | Loss: 0.0049 | Episodes: 70 | Win count: 82 | Win rate: 0.750 | time: 909.15 seconds\n",
      "Epoch: 216/14999 | Loss: 0.0043 | Episodes: 6 | Win count: 83 | Win rate: 0.750 | time: 909.64 seconds\n",
      "Epoch: 217/14999 | Loss: 0.0050 | Episodes: 31 | Win count: 84 | Win rate: 0.750 | time: 911.85 seconds\n",
      "Epoch: 218/14999 | Loss: 0.0061 | Episodes: 71 | Win count: 84 | Win rate: 0.750 | time: 917.24 seconds\n",
      "Epoch: 219/14999 | Loss: 0.0053 | Episodes: 70 | Win count: 84 | Win rate: 0.750 | time: 922.29 seconds\n",
      "Epoch: 220/14999 | Loss: 0.0013 | Episodes: 71 | Win count: 84 | Win rate: 0.719 | time: 927.59 seconds\n",
      "Epoch: 221/14999 | Loss: 0.0041 | Episodes: 13 | Win count: 85 | Win rate: 0.719 | time: 928.52 seconds\n",
      "Epoch: 222/14999 | Loss: 0.0022 | Episodes: 14 | Win count: 86 | Win rate: 0.719 | time: 929.41 seconds\n",
      "Epoch: 223/14999 | Loss: 0.0041 | Episodes: 40 | Win count: 87 | Win rate: 0.719 | time: 932.35 seconds\n",
      "Epoch: 224/14999 | Loss: 0.0043 | Episodes: 18 | Win count: 88 | Win rate: 0.750 | time: 933.70 seconds\n",
      "Epoch: 225/14999 | Loss: 0.0031 | Episodes: 33 | Win count: 89 | Win rate: 0.750 | time: 935.98 seconds\n",
      "Epoch: 226/14999 | Loss: 0.0090 | Episodes: 72 | Win count: 89 | Win rate: 0.719 | time: 940.93 seconds\n",
      "Epoch: 227/14999 | Loss: 0.0056 | Episodes: 19 | Win count: 90 | Win rate: 0.719 | time: 942.38 seconds\n",
      "Epoch: 228/14999 | Loss: 0.0023 | Episodes: 5 | Win count: 91 | Win rate: 0.719 | time: 942.80 seconds\n",
      "Epoch: 229/14999 | Loss: 0.0055 | Episodes: 5 | Win count: 92 | Win rate: 0.719 | time: 943.21 seconds\n",
      "Epoch: 230/14999 | Loss: 0.0047 | Episodes: 3 | Win count: 93 | Win rate: 0.719 | time: 943.47 seconds\n",
      "Epoch: 231/14999 | Loss: 0.0049 | Episodes: 2 | Win count: 94 | Win rate: 0.719 | time: 943.64 seconds\n",
      "Epoch: 232/14999 | Loss: 0.0057 | Episodes: 71 | Win count: 94 | Win rate: 0.688 | time: 949.13 seconds\n",
      "Epoch: 233/14999 | Loss: 0.0058 | Episodes: 10 | Win count: 95 | Win rate: 0.719 | time: 950.02 seconds\n",
      "Epoch: 234/14999 | Loss: 0.0065 | Episodes: 75 | Win count: 96 | Win rate: 0.750 | time: 955.84 seconds\n",
      "Epoch: 235/14999 | Loss: 0.0041 | Episodes: 8 | Win count: 97 | Win rate: 0.750 | time: 956.44 seconds\n",
      "Epoch: 236/14999 | Loss: 0.0035 | Episodes: 34 | Win count: 98 | Win rate: 0.750 | time: 958.91 seconds\n",
      "Epoch: 237/14999 | Loss: 0.0048 | Episodes: 38 | Win count: 99 | Win rate: 0.750 | time: 961.62 seconds\n",
      "Epoch: 238/14999 | Loss: 0.0082 | Episodes: 3 | Win count: 100 | Win rate: 0.750 | time: 961.88 seconds\n"
     ]
    },
    {
     "name": "stdout",
     "output_type": "stream",
     "text": [
      "Epoch: 239/14999 | Loss: 0.0045 | Episodes: 16 | Win count: 101 | Win rate: 0.750 | time: 963.11 seconds\n",
      "Epoch: 240/14999 | Loss: 0.0051 | Episodes: 1 | Win count: 102 | Win rate: 0.750 | time: 963.17 seconds\n",
      "Epoch: 241/14999 | Loss: 0.0074 | Episodes: 29 | Win count: 103 | Win rate: 0.750 | time: 965.33 seconds\n",
      "Epoch: 242/14999 | Loss: 0.0066 | Episodes: 17 | Win count: 104 | Win rate: 0.750 | time: 966.55 seconds\n",
      "Epoch: 243/14999 | Loss: 0.0061 | Episodes: 2 | Win count: 105 | Win rate: 0.781 | time: 966.71 seconds\n",
      "Epoch: 244/14999 | Loss: 0.0044 | Episodes: 9 | Win count: 106 | Win rate: 0.781 | time: 967.39 seconds\n",
      "Epoch: 245/14999 | Loss: 0.0048 | Episodes: 3 | Win count: 107 | Win rate: 0.812 | time: 967.65 seconds\n",
      "Epoch: 246/14999 | Loss: 0.0052 | Episodes: 17 | Win count: 108 | Win rate: 0.812 | time: 968.94 seconds\n",
      "Epoch: 247/14999 | Loss: 0.0070 | Episodes: 30 | Win count: 109 | Win rate: 0.844 | time: 971.17 seconds\n",
      "Epoch: 248/14999 | Loss: 0.0059 | Episodes: 14 | Win count: 110 | Win rate: 0.844 | time: 972.19 seconds\n",
      "Epoch: 249/14999 | Loss: 0.0052 | Episodes: 38 | Win count: 111 | Win rate: 0.844 | time: 975.05 seconds\n",
      "Epoch: 250/14999 | Loss: 0.0039 | Episodes: 36 | Win count: 112 | Win rate: 0.875 | time: 977.88 seconds\n",
      "Epoch: 251/14999 | Loss: 0.0043 | Episodes: 19 | Win count: 113 | Win rate: 0.906 | time: 979.36 seconds\n",
      "Epoch: 252/14999 | Loss: 0.0048 | Episodes: 28 | Win count: 114 | Win rate: 0.938 | time: 981.49 seconds\n",
      "Epoch: 253/14999 | Loss: 0.0069 | Episodes: 41 | Win count: 115 | Win rate: 0.938 | time: 984.67 seconds\n",
      "Epoch: 254/14999 | Loss: 0.0081 | Episodes: 3 | Win count: 116 | Win rate: 0.938 | time: 984.94 seconds\n",
      "Epoch: 255/14999 | Loss: 0.0069 | Episodes: 41 | Win count: 117 | Win rate: 0.938 | time: 988.03 seconds\n",
      "Epoch: 256/14999 | Loss: 0.0038 | Episodes: 3 | Win count: 118 | Win rate: 0.938 | time: 988.30 seconds\n",
      "Epoch: 257/14999 | Loss: 0.0069 | Episodes: 12 | Win count: 119 | Win rate: 0.938 | time: 989.26 seconds\n",
      "Epoch: 258/14999 | Loss: 0.0090 | Episodes: 17 | Win count: 120 | Win rate: 0.969 | time: 990.58 seconds\n",
      "Epoch: 259/14999 | Loss: 0.0054 | Episodes: 74 | Win count: 121 | Win rate: 0.969 | time: 995.84 seconds\n",
      "Epoch: 260/14999 | Loss: 0.0072 | Episodes: 13 | Win count: 122 | Win rate: 0.969 | time: 996.83 seconds\n",
      "Epoch: 261/14999 | Loss: 0.0062 | Episodes: 21 | Win count: 123 | Win rate: 0.969 | time: 998.69 seconds\n",
      "Epoch: 262/14999 | Loss: 0.0472 | Episodes: 2 | Win count: 124 | Win rate: 0.969 | time: 998.90 seconds\n",
      "Epoch: 263/14999 | Loss: 0.0065 | Episodes: 37 | Win count: 125 | Win rate: 0.969 | time: 1002.75 seconds\n",
      "Epoch: 264/14999 | Loss: 0.0064 | Episodes: 22 | Win count: 126 | Win rate: 1.000 | time: 1004.78 seconds\n",
      "Epoch: 265/14999 | Loss: 0.0116 | Episodes: 23 | Win count: 127 | Win rate: 1.000 | time: 1007.10 seconds\n",
      "Epoch: 266/14999 | Loss: 0.0067 | Episodes: 88 | Win count: 128 | Win rate: 1.000 | time: 1013.97 seconds\n",
      "Epoch: 267/14999 | Loss: 0.0055 | Episodes: 27 | Win count: 129 | Win rate: 1.000 | time: 1016.36 seconds\n",
      "Epoch: 268/14999 | Loss: 0.0070 | Episodes: 8 | Win count: 130 | Win rate: 1.000 | time: 1017.15 seconds\n",
      "Epoch: 269/14999 | Loss: 0.0092 | Episodes: 34 | Win count: 131 | Win rate: 1.000 | time: 1019.86 seconds\n",
      "Epoch: 270/14999 | Loss: 0.0073 | Episodes: 18 | Win count: 132 | Win rate: 1.000 | time: 1021.66 seconds\n",
      "Epoch: 271/14999 | Loss: 0.0043 | Episodes: 27 | Win count: 133 | Win rate: 1.000 | time: 1023.77 seconds\n",
      "Epoch: 272/14999 | Loss: 0.0049 | Episodes: 11 | Win count: 134 | Win rate: 1.000 | time: 1025.00 seconds\n",
      "Epoch: 273/14999 | Loss: 0.0107 | Episodes: 31 | Win count: 135 | Win rate: 1.000 | time: 1027.64 seconds\n",
      "Epoch: 274/14999 | Loss: 0.0069 | Episodes: 9 | Win count: 136 | Win rate: 1.000 | time: 1028.66 seconds\n",
      "Epoch: 275/14999 | Loss: 0.0084 | Episodes: 11 | Win count: 137 | Win rate: 1.000 | time: 1029.82 seconds\n",
      "Epoch: 276/14999 | Loss: 0.0090 | Episodes: 42 | Win count: 138 | Win rate: 1.000 | time: 1033.04 seconds\n",
      "Epoch: 277/14999 | Loss: 0.0065 | Episodes: 33 | Win count: 139 | Win rate: 1.000 | time: 1035.74 seconds\n",
      "Epoch: 278/14999 | Loss: 0.0066 | Episodes: 28 | Win count: 140 | Win rate: 1.000 | time: 1037.87 seconds\n",
      "Epoch: 279/14999 | Loss: 0.0046 | Episodes: 30 | Win count: 141 | Win rate: 1.000 | time: 1040.52 seconds\n",
      "Epoch: 280/14999 | Loss: 0.0059 | Episodes: 16 | Win count: 142 | Win rate: 1.000 | time: 1041.73 seconds\n",
      "Epoch: 281/14999 | Loss: 0.0037 | Episodes: 19 | Win count: 143 | Win rate: 1.000 | time: 1043.48 seconds\n",
      "Epoch: 282/14999 | Loss: 0.0069 | Episodes: 46 | Win count: 144 | Win rate: 1.000 | time: 1047.29 seconds\n",
      "Epoch: 283/14999 | Loss: 0.0049 | Episodes: 39 | Win count: 145 | Win rate: 1.000 | time: 1050.41 seconds\n",
      "Epoch: 284/14999 | Loss: 0.0103 | Episodes: 3 | Win count: 146 | Win rate: 1.000 | time: 1050.98 seconds\n",
      "Epoch: 285/14999 | Loss: 0.0031 | Episodes: 24 | Win count: 147 | Win rate: 1.000 | time: 1052.81 seconds\n",
      "Epoch: 286/14999 | Loss: 0.0059 | Episodes: 16 | Win count: 148 | Win rate: 1.000 | time: 1054.22 seconds\n",
      "Epoch: 287/14999 | Loss: 0.0046 | Episodes: 21 | Win count: 149 | Win rate: 1.000 | time: 1056.06 seconds\n",
      "Epoch: 288/14999 | Loss: 0.0050 | Episodes: 24 | Win count: 150 | Win rate: 1.000 | time: 1058.27 seconds\n",
      "Epoch: 289/14999 | Loss: 0.0044 | Episodes: 4 | Win count: 151 | Win rate: 1.000 | time: 1058.70 seconds\n",
      "Epoch: 290/14999 | Loss: 0.0038 | Episodes: 28 | Win count: 152 | Win rate: 1.000 | time: 1061.40 seconds\n",
      "Epoch: 291/14999 | Loss: 0.0021 | Episodes: 16 | Win count: 153 | Win rate: 1.000 | time: 1062.63 seconds\n",
      "Epoch: 292/14999 | Loss: 0.0054 | Episodes: 19 | Win count: 154 | Win rate: 1.000 | time: 1064.39 seconds\n",
      "Epoch: 293/14999 | Loss: 0.0026 | Episodes: 29 | Win count: 155 | Win rate: 1.000 | time: 1066.88 seconds\n",
      "Epoch: 294/14999 | Loss: 0.0027 | Episodes: 9 | Win count: 156 | Win rate: 1.000 | time: 1067.71 seconds\n",
      "Epoch: 295/14999 | Loss: 0.0055 | Episodes: 29 | Win count: 157 | Win rate: 1.000 | time: 1070.02 seconds\n",
      "Epoch: 296/14999 | Loss: 0.0029 | Episodes: 6 | Win count: 158 | Win rate: 1.000 | time: 1070.70 seconds\n",
      "Epoch: 297/14999 | Loss: 0.0035 | Episodes: 18 | Win count: 159 | Win rate: 1.000 | time: 1072.34 seconds\n",
      "Epoch: 298/14999 | Loss: 0.0016 | Episodes: 25 | Win count: 160 | Win rate: 1.000 | time: 1074.31 seconds\n",
      "Epoch: 299/14999 | Loss: 0.0028 | Episodes: 42 | Win count: 161 | Win rate: 1.000 | time: 1077.40 seconds\n",
      "Epoch: 300/14999 | Loss: 0.0046 | Episodes: 1 | Win count: 162 | Win rate: 1.000 | time: 1077.80 seconds\n",
      "Epoch: 301/14999 | Loss: 0.0023 | Episodes: 19 | Win count: 163 | Win rate: 1.000 | time: 1079.46 seconds\n",
      "Epoch: 302/14999 | Loss: 0.0048 | Episodes: 22 | Win count: 164 | Win rate: 1.000 | time: 1081.45 seconds\n",
      "Epoch: 303/14999 | Loss: 0.0051 | Episodes: 1 | Win count: 165 | Win rate: 1.000 | time: 1081.85 seconds\n",
      "Epoch: 304/14999 | Loss: 0.0027 | Episodes: 4 | Win count: 166 | Win rate: 1.000 | time: 1082.39 seconds\n",
      "Epoch: 305/14999 | Loss: 0.0066 | Episodes: 26 | Win count: 167 | Win rate: 1.000 | time: 1084.69 seconds\n",
      "Epoch: 306/14999 | Loss: 0.0037 | Episodes: 24 | Win count: 168 | Win rate: 1.000 | time: 1086.62 seconds\n",
      "Epoch: 307/14999 | Loss: 0.0049 | Episodes: 7 | Win count: 169 | Win rate: 1.000 | time: 1087.36 seconds\n",
      "Epoch: 308/14999 | Loss: 0.0055 | Episodes: 17 | Win count: 170 | Win rate: 1.000 | time: 1088.94 seconds\n",
      "Epoch: 309/14999 | Loss: 0.0092 | Episodes: 33 | Win count: 171 | Win rate: 1.000 | time: 1091.43 seconds\n",
      "Epoch: 310/14999 | Loss: 0.0086 | Episodes: 24 | Win count: 172 | Win rate: 1.000 | time: 1093.46 seconds\n",
      "Epoch: 311/14999 | Loss: 0.0027 | Episodes: 35 | Win count: 173 | Win rate: 1.000 | time: 1096.41 seconds\n",
      "Epoch: 312/14999 | Loss: 0.0033 | Episodes: 28 | Win count: 174 | Win rate: 1.000 | time: 1098.94 seconds\n",
      "Epoch: 313/14999 | Loss: 0.0030 | Episodes: 19 | Win count: 175 | Win rate: 1.000 | time: 1100.36 seconds\n",
      "Epoch: 314/14999 | Loss: 0.0048 | Episodes: 23 | Win count: 176 | Win rate: 1.000 | time: 1102.16 seconds\n",
      "Epoch: 315/14999 | Loss: 0.0008 | Episodes: 16 | Win count: 177 | Win rate: 1.000 | time: 1103.78 seconds\n",
      "Epoch: 316/14999 | Loss: 0.0042 | Episodes: 30 | Win count: 178 | Win rate: 1.000 | time: 1106.21 seconds\n"
     ]
    },
    {
     "name": "stdout",
     "output_type": "stream",
     "text": [
      "Epoch: 317/14999 | Loss: 0.0057 | Episodes: 17 | Win count: 179 | Win rate: 1.000 | time: 1107.47 seconds\n",
      "Epoch: 318/14999 | Loss: 0.0029 | Episodes: 7 | Win count: 180 | Win rate: 1.000 | time: 1108.11 seconds\n",
      "Epoch: 319/14999 | Loss: 0.0013 | Episodes: 18 | Win count: 181 | Win rate: 1.000 | time: 1109.50 seconds\n",
      "Epoch: 320/14999 | Loss: 0.0023 | Episodes: 26 | Win count: 182 | Win rate: 1.000 | time: 1111.83 seconds\n",
      "Epoch: 321/14999 | Loss: 0.0037 | Episodes: 7 | Win count: 183 | Win rate: 1.000 | time: 1112.44 seconds\n",
      "Epoch: 322/14999 | Loss: 0.0045 | Episodes: 37 | Win count: 184 | Win rate: 1.000 | time: 1115.11 seconds\n",
      "Epoch: 323/14999 | Loss: 0.0041 | Episodes: 35 | Win count: 185 | Win rate: 1.000 | time: 1117.94 seconds\n",
      "Epoch: 324/14999 | Loss: 0.0020 | Episodes: 25 | Win count: 186 | Win rate: 1.000 | time: 1120.25 seconds\n",
      "Epoch: 325/14999 | Loss: 0.0046 | Episodes: 38 | Win count: 187 | Win rate: 1.000 | time: 1123.29 seconds\n",
      "Epoch: 326/14999 | Loss: 0.0030 | Episodes: 30 | Win count: 188 | Win rate: 1.000 | time: 1125.84 seconds\n",
      "Epoch: 327/14999 | Loss: 0.0047 | Episodes: 22 | Win count: 189 | Win rate: 1.000 | time: 1127.69 seconds\n",
      "Epoch: 328/14999 | Loss: 0.0044 | Episodes: 27 | Win count: 190 | Win rate: 1.000 | time: 1129.68 seconds\n",
      "Epoch: 329/14999 | Loss: 0.0020 | Episodes: 21 | Win count: 191 | Win rate: 1.000 | time: 1131.24 seconds\n",
      "Epoch: 330/14999 | Loss: 0.0024 | Episodes: 1 | Win count: 192 | Win rate: 1.000 | time: 1131.59 seconds\n",
      "Epoch: 331/14999 | Loss: 0.0037 | Episodes: 17 | Win count: 193 | Win rate: 1.000 | time: 1133.34 seconds\n",
      "Epoch: 332/14999 | Loss: 0.0033 | Episodes: 32 | Win count: 194 | Win rate: 1.000 | time: 1136.01 seconds\n",
      "Epoch: 333/14999 | Loss: 0.0039 | Episodes: 30 | Win count: 195 | Win rate: 1.000 | time: 1138.48 seconds\n",
      "Epoch: 334/14999 | Loss: 0.0043 | Episodes: 8 | Win count: 196 | Win rate: 1.000 | time: 1139.14 seconds\n",
      "Epoch: 335/14999 | Loss: 0.0055 | Episodes: 43 | Win count: 197 | Win rate: 1.000 | time: 1142.69 seconds\n",
      "Epoch: 336/14999 | Loss: 0.0035 | Episodes: 17 | Win count: 198 | Win rate: 1.000 | time: 1144.18 seconds\n",
      "Epoch: 337/14999 | Loss: 0.0066 | Episodes: 11 | Win count: 199 | Win rate: 1.000 | time: 1145.48 seconds\n",
      "Epoch: 338/14999 | Loss: 0.0122 | Episodes: 17 | Win count: 200 | Win rate: 1.000 | time: 1147.13 seconds\n",
      "Epoch: 339/14999 | Loss: 0.0037 | Episodes: 10 | Win count: 201 | Win rate: 1.000 | time: 1147.97 seconds\n",
      "Epoch: 340/14999 | Loss: 0.0111 | Episodes: 6 | Win count: 202 | Win rate: 1.000 | time: 1148.65 seconds\n",
      "Epoch: 341/14999 | Loss: 0.0156 | Episodes: 12 | Win count: 203 | Win rate: 1.000 | time: 1149.61 seconds\n",
      "Epoch: 342/14999 | Loss: 0.0031 | Episodes: 23 | Win count: 204 | Win rate: 1.000 | time: 1151.36 seconds\n",
      "Epoch: 343/14999 | Loss: 0.0059 | Episodes: 4 | Win count: 205 | Win rate: 1.000 | time: 1151.80 seconds\n",
      "Epoch: 344/14999 | Loss: 0.0092 | Episodes: 75 | Win count: 205 | Win rate: 0.969 | time: 1157.41 seconds\n",
      "Epoch: 345/14999 | Loss: 0.4805 | Episodes: 47 | Win count: 206 | Win rate: 0.969 | time: 1160.99 seconds\n",
      "Epoch: 346/14999 | Loss: 0.0330 | Episodes: 6 | Win count: 207 | Win rate: 0.969 | time: 1161.39 seconds\n",
      "Epoch: 347/14999 | Loss: 0.0158 | Episodes: 61 | Win count: 208 | Win rate: 0.969 | time: 1165.92 seconds\n",
      "Epoch: 348/14999 | Loss: 0.0052 | Episodes: 67 | Win count: 209 | Win rate: 0.969 | time: 1171.26 seconds\n",
      "Epoch: 349/14999 | Loss: 0.0022 | Episodes: 19 | Win count: 210 | Win rate: 0.969 | time: 1172.68 seconds\n",
      "Epoch: 350/14999 | Loss: 0.0058 | Episodes: 25 | Win count: 211 | Win rate: 0.969 | time: 1174.46 seconds\n",
      "Epoch: 351/14999 | Loss: 0.0050 | Episodes: 38 | Win count: 212 | Win rate: 0.969 | time: 1177.30 seconds\n",
      "Epoch: 352/14999 | Loss: 0.0048 | Episodes: 21 | Win count: 213 | Win rate: 0.969 | time: 1178.78 seconds\n",
      "Epoch: 353/14999 | Loss: 0.0070 | Episodes: 23 | Win count: 214 | Win rate: 0.969 | time: 1180.38 seconds\n",
      "Epoch: 354/14999 | Loss: 0.0066 | Episodes: 28 | Win count: 215 | Win rate: 0.969 | time: 1182.40 seconds\n",
      "Epoch: 355/14999 | Loss: 0.0048 | Episodes: 12 | Win count: 216 | Win rate: 0.969 | time: 1183.34 seconds\n",
      "Epoch: 356/14999 | Loss: 0.0040 | Episodes: 15 | Win count: 217 | Win rate: 0.969 | time: 1184.42 seconds\n",
      "Epoch: 357/14999 | Loss: 0.0059 | Episodes: 34 | Win count: 218 | Win rate: 0.969 | time: 1187.07 seconds\n",
      "Epoch: 358/14999 | Loss: 0.0047 | Episodes: 32 | Win count: 219 | Win rate: 0.969 | time: 1189.45 seconds\n",
      "Epoch: 359/14999 | Loss: 0.0055 | Episodes: 25 | Win count: 220 | Win rate: 0.969 | time: 1191.41 seconds\n",
      "Epoch: 360/14999 | Loss: 0.0042 | Episodes: 30 | Win count: 221 | Win rate: 0.969 | time: 1193.94 seconds\n",
      "Epoch: 361/14999 | Loss: 0.0027 | Episodes: 11 | Win count: 222 | Win rate: 0.969 | time: 1194.80 seconds\n",
      "Epoch: 362/14999 | Loss: 0.0027 | Episodes: 15 | Win count: 223 | Win rate: 0.969 | time: 1195.95 seconds\n",
      "Epoch: 363/14999 | Loss: 0.0035 | Episodes: 7 | Win count: 224 | Win rate: 0.969 | time: 1196.47 seconds\n",
      "Epoch: 364/14999 | Loss: 0.0029 | Episodes: 19 | Win count: 225 | Win rate: 0.969 | time: 1197.84 seconds\n",
      "Epoch: 365/14999 | Loss: 0.0083 | Episodes: 31 | Win count: 226 | Win rate: 0.969 | time: 1200.14 seconds\n",
      "Epoch: 366/14999 | Loss: 0.0006 | Episodes: 15 | Win count: 227 | Win rate: 0.969 | time: 1201.31 seconds\n",
      "Epoch: 367/14999 | Loss: 0.0036 | Episodes: 15 | Win count: 228 | Win rate: 0.969 | time: 1202.42 seconds\n",
      "Epoch: 368/14999 | Loss: 0.0030 | Episodes: 11 | Win count: 229 | Win rate: 0.969 | time: 1203.33 seconds\n",
      "Epoch: 369/14999 | Loss: 0.0030 | Episodes: 23 | Win count: 230 | Win rate: 0.969 | time: 1204.84 seconds\n",
      "Epoch: 370/14999 | Loss: 0.0023 | Episodes: 27 | Win count: 231 | Win rate: 0.969 | time: 1206.91 seconds\n",
      "Epoch: 371/14999 | Loss: 0.0011 | Episodes: 9 | Win count: 232 | Win rate: 0.969 | time: 1207.66 seconds\n",
      "Epoch: 372/14999 | Loss: 0.0041 | Episodes: 2 | Win count: 233 | Win rate: 0.969 | time: 1207.77 seconds\n",
      "Epoch: 373/14999 | Loss: 0.0034 | Episodes: 19 | Win count: 234 | Win rate: 0.969 | time: 1209.36 seconds\n",
      "Epoch: 374/14999 | Loss: 0.0019 | Episodes: 8 | Win count: 235 | Win rate: 0.969 | time: 1209.91 seconds\n",
      "Epoch: 375/14999 | Loss: 0.0042 | Episodes: 20 | Win count: 236 | Win rate: 0.969 | time: 1211.52 seconds\n",
      "Epoch: 376/14999 | Loss: 0.0016 | Episodes: 9 | Win count: 237 | Win rate: 1.000 | time: 1212.22 seconds\n",
      "Epoch: 377/14999 | Loss: 0.0035 | Episodes: 28 | Win count: 238 | Win rate: 1.000 | time: 1214.98 seconds\n",
      "Epoch: 378/14999 | Loss: 0.0022 | Episodes: 2 | Win count: 239 | Win rate: 1.000 | time: 1215.72 seconds\n",
      "Epoch: 379/14999 | Loss: 0.0062 | Episodes: 27 | Win count: 240 | Win rate: 1.000 | time: 1218.37 seconds\n",
      "Epoch: 380/14999 | Loss: 0.0028 | Episodes: 29 | Win count: 241 | Win rate: 1.000 | time: 1220.95 seconds\n",
      "Epoch: 381/14999 | Loss: 0.0056 | Episodes: 2 | Win count: 242 | Win rate: 1.000 | time: 1221.50 seconds\n",
      "Epoch: 382/14999 | Loss: 0.0028 | Episodes: 10 | Win count: 243 | Win rate: 1.000 | time: 1222.65 seconds\n",
      "Epoch: 383/14999 | Loss: 0.0015 | Episodes: 19 | Win count: 244 | Win rate: 1.000 | time: 1224.30 seconds\n",
      "Epoch: 384/14999 | Loss: 0.0036 | Episodes: 2 | Win count: 245 | Win rate: 1.000 | time: 1224.84 seconds\n",
      "Epoch: 385/14999 | Loss: 0.0014 | Episodes: 26 | Win count: 246 | Win rate: 1.000 | time: 1227.19 seconds\n",
      "Epoch: 386/14999 | Loss: 0.0009 | Episodes: 13 | Win count: 247 | Win rate: 1.000 | time: 1228.60 seconds\n",
      "Epoch: 387/14999 | Loss: 0.0049 | Episodes: 33 | Win count: 248 | Win rate: 1.000 | time: 1230.99 seconds\n",
      "Epoch: 388/14999 | Loss: 0.0048 | Episodes: 18 | Win count: 249 | Win rate: 1.000 | time: 1232.95 seconds\n",
      "Epoch: 389/14999 | Loss: 0.0014 | Episodes: 11 | Win count: 250 | Win rate: 1.000 | time: 1233.83 seconds\n",
      "Epoch: 390/14999 | Loss: 0.0021 | Episodes: 21 | Win count: 251 | Win rate: 1.000 | time: 1236.03 seconds\n",
      "Epoch: 391/14999 | Loss: 0.0015 | Episodes: 17 | Win count: 252 | Win rate: 1.000 | time: 1237.58 seconds\n",
      "Epoch: 392/14999 | Loss: 0.0010 | Episodes: 1 | Win count: 253 | Win rate: 1.000 | time: 1238.32 seconds\n",
      "Epoch: 393/14999 | Loss: 0.0017 | Episodes: 27 | Win count: 254 | Win rate: 1.000 | time: 1241.17 seconds\n",
      "Epoch: 394/14999 | Loss: 0.0023 | Episodes: 18 | Win count: 255 | Win rate: 1.000 | time: 1243.12 seconds\n"
     ]
    },
    {
     "name": "stdout",
     "output_type": "stream",
     "text": [
      "Epoch: 395/14999 | Loss: 0.0014 | Episodes: 23 | Win count: 256 | Win rate: 1.000 | time: 1245.09 seconds\n",
      "Epoch: 396/14999 | Loss: 0.0017 | Episodes: 34 | Win count: 257 | Win rate: 1.000 | time: 1248.25 seconds\n",
      "Epoch: 397/14999 | Loss: 0.0033 | Episodes: 14 | Win count: 258 | Win rate: 1.000 | time: 1250.18 seconds\n",
      "Epoch: 398/14999 | Loss: 0.0025 | Episodes: 19 | Win count: 259 | Win rate: 1.000 | time: 1252.16 seconds\n",
      "Epoch: 399/14999 | Loss: 0.0024 | Episodes: 13 | Win count: 260 | Win rate: 1.000 | time: 1253.50 seconds\n",
      "Epoch: 400/14999 | Loss: 0.0010 | Episodes: 16 | Win count: 261 | Win rate: 1.000 | time: 1254.88 seconds\n",
      "Epoch: 401/14999 | Loss: 0.0011 | Episodes: 26 | Win count: 262 | Win rate: 1.000 | time: 1257.40 seconds\n",
      "Epoch: 402/14999 | Loss: 0.0007 | Episodes: 7 | Win count: 263 | Win rate: 1.000 | time: 1258.41 seconds\n",
      "Epoch: 403/14999 | Loss: 0.0024 | Episodes: 29 | Win count: 264 | Win rate: 1.000 | time: 1260.86 seconds\n",
      "Epoch: 404/14999 | Loss: 0.0009 | Episodes: 27 | Win count: 265 | Win rate: 1.000 | time: 1263.39 seconds\n",
      "Epoch: 405/14999 | Loss: 0.0007 | Episodes: 17 | Win count: 266 | Win rate: 1.000 | time: 1264.88 seconds\n",
      "Epoch: 406/14999 | Loss: 0.0036 | Episodes: 8 | Win count: 267 | Win rate: 1.000 | time: 1265.86 seconds\n",
      "Epoch: 407/14999 | Loss: 0.0032 | Episodes: 14 | Win count: 268 | Win rate: 1.000 | time: 1267.06 seconds\n",
      "Epoch: 408/14999 | Loss: 0.0004 | Episodes: 26 | Win count: 269 | Win rate: 1.000 | time: 1269.58 seconds\n",
      "Epoch: 409/14999 | Loss: 0.0017 | Episodes: 20 | Win count: 270 | Win rate: 1.000 | time: 1271.67 seconds\n",
      "Epoch: 410/14999 | Loss: 0.0014 | Episodes: 12 | Win count: 271 | Win rate: 1.000 | time: 1272.71 seconds\n",
      "Epoch: 411/14999 | Loss: 0.0048 | Episodes: 13 | Win count: 272 | Win rate: 1.000 | time: 1273.99 seconds\n",
      "Epoch: 412/14999 | Loss: 0.0019 | Episodes: 20 | Win count: 273 | Win rate: 1.000 | time: 1275.93 seconds\n",
      "Epoch: 413/14999 | Loss: 0.0037 | Episodes: 24 | Win count: 274 | Win rate: 1.000 | time: 1278.20 seconds\n",
      "Epoch: 414/14999 | Loss: 0.0015 | Episodes: 7 | Win count: 275 | Win rate: 1.000 | time: 1279.49 seconds\n",
      "Epoch: 415/14999 | Loss: 0.0002 | Episodes: 7 | Win count: 276 | Win rate: 1.000 | time: 1280.75 seconds\n",
      "Epoch: 416/14999 | Loss: 0.0008 | Episodes: 12 | Win count: 277 | Win rate: 1.000 | time: 1282.25 seconds\n",
      "Epoch: 417/14999 | Loss: 0.0021 | Episodes: 63 | Win count: 278 | Win rate: 1.000 | time: 1287.66 seconds\n",
      "Epoch: 418/14999 | Loss: 0.0012 | Episodes: 18 | Win count: 279 | Win rate: 1.000 | time: 1288.93 seconds\n",
      "Epoch: 419/14999 | Loss: 0.0012 | Episodes: 11 | Win count: 280 | Win rate: 1.000 | time: 1289.88 seconds\n",
      "Epoch: 420/14999 | Loss: 0.0007 | Episodes: 2 | Win count: 281 | Win rate: 1.000 | time: 1290.78 seconds\n",
      "Epoch: 421/14999 | Loss: 0.0011 | Episodes: 21 | Win count: 282 | Win rate: 1.000 | time: 1292.87 seconds\n",
      "Reached 100% win rate at epoch: 421\n"
     ]
    },
    {
     "ename": "NameError",
     "evalue": "name 'format_time' is not defined",
     "output_type": "error",
     "traceback": [
      "\u001b[1;31m---------------------------------------------------------------------------\u001b[0m",
      "\u001b[1;31mNameError\u001b[0m                                 Traceback (most recent call last)",
      "\u001b[1;32m<ipython-input-45-3f866ecde593>\u001b[0m in \u001b[0;36m<module>\u001b[1;34m\u001b[0m\n\u001b[0;32m      1\u001b[0m \u001b[0mmodel\u001b[0m \u001b[1;33m=\u001b[0m \u001b[0mbuild_model\u001b[0m\u001b[1;33m(\u001b[0m\u001b[0mmaze\u001b[0m\u001b[1;33m)\u001b[0m\u001b[1;33m\u001b[0m\u001b[1;33m\u001b[0m\u001b[0m\n\u001b[1;32m----> 2\u001b[1;33m \u001b[0mqtrain\u001b[0m\u001b[1;33m(\u001b[0m\u001b[0mmodel\u001b[0m\u001b[1;33m,\u001b[0m \u001b[0mmaze\u001b[0m\u001b[1;33m,\u001b[0m \u001b[0mepochs\u001b[0m\u001b[1;33m=\u001b[0m\u001b[1;36m1000\u001b[0m\u001b[1;33m,\u001b[0m \u001b[0mmax_memory\u001b[0m\u001b[1;33m=\u001b[0m\u001b[1;36m8\u001b[0m\u001b[1;33m*\u001b[0m\u001b[0mmaze\u001b[0m\u001b[1;33m.\u001b[0m\u001b[0msize\u001b[0m\u001b[1;33m,\u001b[0m \u001b[0mdata_size\u001b[0m\u001b[1;33m=\u001b[0m\u001b[1;36m32\u001b[0m\u001b[1;33m)\u001b[0m\u001b[1;33m\u001b[0m\u001b[1;33m\u001b[0m\u001b[0m\n\u001b[0m",
      "\u001b[1;32m<ipython-input-43-4ec63b44746a>\u001b[0m in \u001b[0;36mqtrain\u001b[1;34m(model, maze, **opt)\u001b[0m\n\u001b[0;32m     99\u001b[0m     \u001b[0mdt\u001b[0m \u001b[1;33m=\u001b[0m \u001b[0mdatetime\u001b[0m\u001b[1;33m.\u001b[0m\u001b[0mdatetime\u001b[0m\u001b[1;33m.\u001b[0m\u001b[0mnow\u001b[0m\u001b[1;33m(\u001b[0m\u001b[1;33m)\u001b[0m \u001b[1;33m-\u001b[0m \u001b[0mstart_time\u001b[0m\u001b[1;33m\u001b[0m\u001b[1;33m\u001b[0m\u001b[0m\n\u001b[0;32m    100\u001b[0m     \u001b[0mseconds\u001b[0m \u001b[1;33m=\u001b[0m \u001b[0mdt\u001b[0m\u001b[1;33m.\u001b[0m\u001b[0mtotal_seconds\u001b[0m\u001b[1;33m(\u001b[0m\u001b[1;33m)\u001b[0m\u001b[1;33m\u001b[0m\u001b[1;33m\u001b[0m\u001b[0m\n\u001b[1;32m--> 101\u001b[1;33m     \u001b[0mt\u001b[0m \u001b[1;33m=\u001b[0m \u001b[0mformat_time\u001b[0m\u001b[1;33m(\u001b[0m\u001b[0mseconds\u001b[0m\u001b[1;33m)\u001b[0m\u001b[1;33m\u001b[0m\u001b[1;33m\u001b[0m\u001b[0m\n\u001b[0m\u001b[0;32m    102\u001b[0m \u001b[1;33m\u001b[0m\u001b[0m\n\u001b[0;32m    103\u001b[0m     \u001b[0mprint\u001b[0m\u001b[1;33m(\u001b[0m\u001b[1;34m\"n_epoch: %d, max_mem: %d, data: %d, time: %s\"\u001b[0m \u001b[1;33m%\u001b[0m \u001b[1;33m(\u001b[0m\u001b[0mepoch\u001b[0m\u001b[1;33m,\u001b[0m \u001b[0mmax_memory\u001b[0m\u001b[1;33m,\u001b[0m \u001b[0mdata_size\u001b[0m\u001b[1;33m,\u001b[0m \u001b[0mt\u001b[0m\u001b[1;33m)\u001b[0m\u001b[1;33m)\u001b[0m\u001b[1;33m\u001b[0m\u001b[1;33m\u001b[0m\u001b[0m\n",
      "\u001b[1;31mNameError\u001b[0m: name 'format_time' is not defined"
     ]
    }
   ],
   "source": [
    "model = build_model(maze)\n",
    "qtrain(model, maze, epochs=1000, max_memory=8*maze.size, data_size=32)"
   ]
  },
  {
   "cell_type": "markdown",
   "metadata": {},
   "source": [
    "This cell will check to see if the model passes the completion check. Note: This could take several minutes."
   ]
  },
  {
   "cell_type": "code",
   "execution_count": 46,
   "metadata": {},
   "outputs": [
    {
     "data": {
      "text/plain": [
       "<matplotlib.image.AxesImage at 0x22a2cf4b1c8>"
      ]
     },
     "execution_count": 46,
     "metadata": {},
     "output_type": "execute_result"
    },
    {
     "data": {
      "image/png": "[encoded data removed]",
      "text/plain": [
       "<Figure size 432x288 with 1 Axes>"
      ]
     },
     "metadata": {
      "needs_background": "light"
     },
     "output_type": "display_data"
    }
   ],
   "source": [
    "completion_check(model, qmaze)\n",
    "show(qmaze)"
   ]
  },
  {
   "cell_type": "markdown",
   "metadata": {},
   "source": [
    "This cell will test your model for one game. It will start the pirate at the top-left corner and run play_game. The agent should find a path from the starting position to the target (treasure). The treasure is located in the bottom-right corner."
   ]
  },
  {
   "cell_type": "code",
   "execution_count": 47,
   "metadata": {},
   "outputs": [
    {
     "data": {
      "text/plain": [
       "<matplotlib.image.AxesImage at 0x22a23ff5ec8>"
      ]
     },
     "execution_count": 47,
     "metadata": {},
     "output_type": "execute_result"
    },
    {
     "data": {
      "image/png": "[encoded data removed]",
      "text/plain": [
       "<Figure size 432x288 with 1 Axes>"
      ]
     },
     "metadata": {
      "needs_background": "light"
     },
     "output_type": "display_data"
    }
   ],
   "source": [
    "pirate_start = (0, 0)\n",
    "play_game(model, qmaze, pirate_start)\n",
    "show(qmaze)"
   ]
  },
  {
   "cell_type": "markdown",
   "metadata": {},
   "source": [
    "## Save and Submit Your Work\n",
    "After you have finished creating the code for your notebook, save your work. Make sure that your notebook contains your name in the filename (e.g. Doe_Jane_ProjectTwo.ipynb). This will help your instructor access and grade your work easily. Download a copy of your IPYNB file and submit it to Brightspace. Refer to the Jupyter Notebook in Apporto Tutorial if you need help with these tasks."
   ]
  }
 ],
 "metadata": {
  "kernelspec": {
   "display_name": "Python 3",
   "language": "python",
   "name": "python3"
  },
  "language_info": {
   "codemirror_mode": {
    "name": "ipython",
    "version": 3
   },
   "file_extension": ".py",
   "mimetype": "text/x-python",
   "name": "python",
   "nbconvert_exporter": "python",
   "pygments_lexer": "ipython3",
   "version": "3.7.4"
  }
 },
 "nbformat": 4,
 "nbformat_minor": 2
}
